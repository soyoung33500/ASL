{
  "nbformat": 4,
  "nbformat_minor": 0,
  "metadata": {
    "colab": {
      "provenance": [],
      "authorship_tag": "ABX9TyPSb3monSCf1QxUhPuFe3v+",
      "include_colab_link": true
    },
    "kernelspec": {
      "name": "python3",
      "display_name": "Python 3"
    },
    "language_info": {
      "name": "python"
    }
  },
  "cells": [
    {
      "cell_type": "markdown",
      "metadata": {
        "id": "view-in-github",
        "colab_type": "text"
      },
      "source": [
        "<a href=\"https://colab.research.google.com/github/soyoung33500/ASL/blob/master/%EB%AA%A8%EB%8D%B8_h5_%EB%B9%84%EA%B5%90.ipynb\" target=\"_parent\"><img src=\"https://colab.research.google.com/assets/colab-badge.svg\" alt=\"Open In Colab\"/></a>"
      ]
    },
    {
      "cell_type": "code",
      "source": [
        "from google.colab import drive\n",
        "drive.mount('/content/drive')"
      ],
      "metadata": {
        "colab": {
          "base_uri": "https://localhost:8080/"
        },
        "id": "rIOrLEnF45rb",
        "outputId": "1b512366-98e2-4d1e-88bd-e2d0138ea897"
      },
      "execution_count": null,
      "outputs": [
        {
          "output_type": "stream",
          "name": "stdout",
          "text": [
            "Mounted at /content/drive\n"
          ]
        }
      ]
    },
    {
      "cell_type": "code",
      "source": [
        "import pandas as pd\n",
        "import numpy as np\n",
        "import sklearn\n",
        "import cv2\n",
        "from tensorflow import keras\n",
        "import time\n",
        "import matplotlib.pyplot as plt\n",
        "from tensorflow.keras.utils import to_categorical\n",
        "from tqdm import tqdm"
      ],
      "metadata": {
        "id": "wC78LxoA5pUy"
      },
      "execution_count": null,
      "outputs": []
    },
    {
      "cell_type": "code",
      "source": [
        "# 이미지의 가로 세로\n",
        "IMG_SIZE = 224\n",
        "# 비디오에서 학습할 프레임 개수\n",
        "MAX_SEQ_LENGTH = 20"
      ],
      "metadata": {
        "id": "wNEK9ujJ5_3j"
      },
      "execution_count": null,
      "outputs": []
    },
    {
      "cell_type": "code",
      "source": [
        "# 비디오를 구성하는 이미지의 가운데 부분을 리턴\n",
        "# frame : 비디오를 구성하는 이미지\n",
        "def crop_center_square(frame):\n",
        "    # frame.shape[0:2] : 이미지의 세로, 가로 리턴\n",
        "    y, x = frame.shape[0:2]\n",
        "    # 이미지의 세로 가로 중에서 작은 값을 리턴\n",
        "    min_dim = min(y, x)\n",
        "    # 이미지의 왼쪽 모서리 좌표의 가로 시작점\n",
        "    # 이미지 가로 좌표 (이미지 가로 //2  - min_dim//2) ~ (이미지 가로 //2  + min_dim//2)\n",
        "    start_x = (x // 2) - (min_dim // 2)\n",
        "    # 이미지의 왼쪽 모서리 세로 좌표 시작점\n",
        "    # 이미지 세로 좌표 (이미지 세로 //2  - min_dim//2) ~ (이미지 세로 //2  + min_dim//2)\n",
        "    start_y = (y // 2) - (min_dim // 2)\n",
        "    return frame[start_y : start_y + min_dim, start_x : start_x + min_dim]"
      ],
      "metadata": {
        "id": "8P7JTknD52VQ"
      },
      "execution_count": null,
      "outputs": []
    },
    {
      "cell_type": "code",
      "source": [
        "# 비디오 파일을 읽어서 각 프레임을 이미지로 변환해서 리턴\n",
        "# path : 비디오 파일 경로\n",
        "# max_frames : 이미지로 변환할 프레임수\n",
        "# resize=(IMG_SIZE, IMG_SIZE) : 이미지의 가로 세로\n",
        "def load_video(path, max_frames=20, resize=(IMG_SIZE, IMG_SIZE)):\n",
        "    # 비디오 파일을 읽어서 이미지로 변환 할 객페\n",
        "    cap = cv2.VideoCapture(path)\n",
        "    frames = []\n",
        "    try:\n",
        "        while True:\n",
        "            # cap.read() : 비디오를 읽어서 리턴\n",
        "            # ret : 비디오 읽기가 성공했으면 True, 더이상 읽을 비디오 프레임이 없으면 False 가 리턴\n",
        "            # frame : 비디오 프레임 이미지를 리턴\n",
        "            ret, frame = cap.read()\n",
        "            # ret 가 False면 반복 종료\n",
        "            if not ret:\n",
        "                break\n",
        "            # 비디오 이미지를 가운데 리턴\n",
        "            frame = crop_center_square(frame)\n",
        "            # 비디오 이미지의 가로 세로를 resize=(224,224) 로 변환\n",
        "            frame = cv2.resize(frame, resize)\n",
        "            # frame 은  [줄, 칸, B G R ] 로 구성되 있음\n",
        "            # frame [ : (모든줄), : (모든칸), R (인덱스2) G (인덱스1) B (인덱스0)] 리턴\n",
        "            frame = frame[:, :, [2, 1, 0]]\n",
        "\n",
        "            # frame을 frames에 추가\n",
        "            frames.append(frame)\n",
        "        # (20, 224, 224, 3) 인 0으로 초기화된 배열 생성\n",
        "        frames_arr = np.zeros((max_frames,IMG_SIZE, IMG_SIZE, 3))\n",
        "\n",
        "        # len(frames) : 전체 프레임수를 20으로 나눈 몫\n",
        "        # 전체 프레임 중에서 increase_num 씩 증가해서 리턴\n",
        "        increase_num = len(frames) // max_frames\n",
        "        # 0~max_frames 까지 반복\n",
        "        for index in range(0, max_frames):\n",
        "            # index가 len(frames) (전체 프레임수) 이상이면 반복 종료\n",
        "            if index >= len(frames):\n",
        "                break\n",
        "            # frames_arr에 frame[index * increase_num] 대입\n",
        "            frames_arr[index] = frames[index * increase_num]\n",
        "\n",
        "    finally:\n",
        "        # 비디오 이미지 변환 종료\n",
        "        cap.release()\n",
        "    # frames_arr 를 np.uint8 타입 numpy 배열로 변환 해서 리턴\n",
        "    return np.array(frames_arr, dtype=np.uint8)"
      ],
      "metadata": {
        "id": "Ir4YAa_a53jL"
      },
      "execution_count": null,
      "outputs": []
    },
    {
      "cell_type": "code",
      "source": [
        "# 모든 비디오 파일의 이미지와 종류를 리턴\n",
        "# video_name : 비디오 파일명\n",
        "# label: 비디오 파일 종류\n",
        "# root_dir : 비디오 파일 경로\n",
        "def prepare_all_videos(video_name , label, root_dir, is_train):\n",
        "    # 비디오 파일 이름의 개수\n",
        "    num_samples = len(video_name)\n",
        "    # video_name.values.tolist() : 비디오 파일 이름을 리스트로 변환 해서 리턴\n",
        "    video_paths = video_name.values.tolist()\n",
        "    # 비디오 종류를 리턴\n",
        "    labels = label.values\n",
        "    # 비디오 종류를 2차원 배열로 변환\n",
        "    labels = labels.reshape(-1, 1)\n",
        "    # 0으로 초기화된 [비디오 파일개수 , 20 , 224 , 224, 3] 배열 생성\n",
        "    x = np.zeros(shape = (num_samples, MAX_SEQ_LENGTH, IMG_SIZE, IMG_SIZE, 3), dtype = \"float32\" )\n",
        "    # 0으로 초기화된 [비디오파일개수] 인 배열 생성\n",
        "    y = np.zeros(shape = (num_samples), dtype=\"float32\")\n",
        "\n",
        "    # 비디오 파일의 개수 만큼 반복\n",
        "    for index, path in tqdm( enumerate(video_paths) ):\n",
        "        # 비디오 파일을 읽어서 비디오 이미지를 리턴\n",
        "        video = load_video(root_dir + path)\n",
        "        # 학습데이터 일때 이미지 증강 (테스트 데이터는 증강 안함)\n",
        "        if is_train:\n",
        "            # video에 저장된 20개의 이미지를 증강\n",
        "            video = seq(images = video)\n",
        "\n",
        "        # video를 x에 추가\n",
        "        x[index] = np.array(video / 255, dtype=\"float32\")\n",
        "        # 비디오의 종류가 저장된 labels의 index 번째를 y에 추가\n",
        "        y[index]= np.array(labels[index], dtype=\"float32\")\n",
        "\n",
        "    # 전체 비디오 프레임을 이미지로 변환한 x\n",
        "    # to_categorical(y) : 이미지의 종류 y 를 onehot 인코딩\n",
        "    return (x, to_categorical(y))"
      ],
      "metadata": {
        "id": "lWOJtItC7mIQ"
      },
      "execution_count": null,
      "outputs": []
    },
    {
      "cell_type": "markdown",
      "source": [
        "# 새로운 테스트 영상"
      ],
      "metadata": {
        "id": "4-TMO51ikA4y"
      }
    },
    {
      "cell_type": "code",
      "source": [
        "# 데이터 경로 (경로 마지막 부분에 / 꼭 넣기)\n",
        "data_path = \"/content/drive/MyDrive/비디오 분류_1조/01.video_classification/dataset/\"\n",
        "# 테스트 데이터의 파일명과 종류가 저장된 test.csv 를 읽음\n",
        "test_df = pd.read_csv(data_path + \"test.csv\")\n",
        "# label 컬럼에 저장된 데이터를 중복을 제거하고 조회\n",
        "# text_label에 저장 (shuffle 하기 전에 저장)\n",
        "text_label = test_df[\"tag\"].unique()"
      ],
      "metadata": {
        "id": "T9_UHBXZ_fUC"
      },
      "execution_count": null,
      "outputs": []
    },
    {
      "cell_type": "code",
      "source": [
        "# 스포츠 종류 라벨 확인\n",
        "# 0 : 'CricketShot'\n",
        "# 1 : 'Punch'\n",
        "# 2 : 'TennisSwing'\n",
        "text_label"
      ],
      "metadata": {
        "id": "-qhzYG2EkA4z",
        "colab": {
          "base_uri": "https://localhost:8080/"
        },
        "outputId": "7bc3dc5b-c1c7-4685-d2eb-bf84c0c7d3d6"
      },
      "execution_count": null,
      "outputs": [
        {
          "output_type": "execute_result",
          "data": {
            "text/plain": [
              "array(['CricketShot', 'Punch', 'TennisSwing'], dtype=object)"
            ]
          },
          "metadata": {},
          "execution_count": 8
        }
      ]
    },
    {
      "cell_type": "code",
      "execution_count": null,
      "metadata": {
        "id": "rFa1K3YJmmcu"
      },
      "outputs": [],
      "source": [
        "# 해당 경로에 있는 .mp4 파일명 리스트 가져오기\n",
        "import os\n",
        "path = '/content/drive/MyDrive/비디오 분류_1조/new_test/'\n",
        "file_list_dir = os.listdir(path)\n",
        "# 파일명 끝이 .mp4인 경우 file_list 에 추가\n",
        "file_list = [file for file in file_list_dir if file.endswith('.mp4')]"
      ]
    },
    {
      "cell_type": "code",
      "source": [
        "len(file_list)"
      ],
      "metadata": {
        "colab": {
          "base_uri": "https://localhost:8080/"
        },
        "id": "29hFXJIMEVrN",
        "outputId": "e4f1694c-e233-486b-90f2-af46bbb88083"
      },
      "execution_count": null,
      "outputs": [
        {
          "output_type": "execute_result",
          "data": {
            "text/plain": [
              "70"
            ]
          },
          "metadata": {},
          "execution_count": 10
        }
      ]
    },
    {
      "cell_type": "code",
      "source": [
        "# label을 입력할 빈 리스트 생성\n",
        "label = []\n",
        "for i in range(len(file_list)):\n",
        "    # 파일명에 'cricket'이 있으면 label에 0 입력\n",
        "    if 'cricket' in file_list[i]:\n",
        "        label.append(0)\n",
        "    # 파일명에 'punch'이 있으면 label에 1 입력\n",
        "    elif 'punch' in file_list[i]:\n",
        "        label.append(1)\n",
        "    # 파일명에 'tennis'이 있으면 label에 2 입력\n",
        "    elif 'tennis' in file_list[i]:\n",
        "        label.append(2)\n",
        "    # 위의 것 중 어느 것에도 해당되지 않으면 잘못된 파일명\n",
        "    else:\n",
        "        print('잘못된 파일명')"
      ],
      "metadata": {
        "id": "N28bWTBznnIm"
      },
      "execution_count": null,
      "outputs": []
    },
    {
      "cell_type": "code",
      "source": [
        "# video_name 에 동영상 파일 이름이 저장돼있는 file_list 입력\n",
        "# 해당하는 스포츠 종류의 index가 저장돼있는 label 입력\n",
        "new = pd.DataFrame({\"video_name\" : file_list, \"label\" : label})\n",
        "new"
      ],
      "metadata": {
        "id": "v0XbxKIJpCKu",
        "colab": {
          "base_uri": "https://localhost:8080/",
          "height": 424
        },
        "outputId": "a981a503-a9e0-47c3-9599-c03ab13e4d28"
      },
      "execution_count": null,
      "outputs": [
        {
          "output_type": "execute_result",
          "data": {
            "text/plain": [
              "            video_name  label\n",
              "0   cricketshot021.mp4      0\n",
              "1   cricketshot022.mp4      0\n",
              "2   cricketshot023.mp4      0\n",
              "3         punch021.mp4      1\n",
              "4         punch022.mp4      1\n",
              "..                 ...    ...\n",
              "65        punch005.mp4      1\n",
              "66        punch009.mp4      1\n",
              "67        punch006.mp4      1\n",
              "68        punch008.mp4      1\n",
              "69        punch007.mp4      1\n",
              "\n",
              "[70 rows x 2 columns]"
            ],
            "text/html": [
              "\n",
              "  <div id=\"df-81413aa7-7d1f-4312-8420-4cae63a05ad2\">\n",
              "    <div class=\"colab-df-container\">\n",
              "      <div>\n",
              "<style scoped>\n",
              "    .dataframe tbody tr th:only-of-type {\n",
              "        vertical-align: middle;\n",
              "    }\n",
              "\n",
              "    .dataframe tbody tr th {\n",
              "        vertical-align: top;\n",
              "    }\n",
              "\n",
              "    .dataframe thead th {\n",
              "        text-align: right;\n",
              "    }\n",
              "</style>\n",
              "<table border=\"1\" class=\"dataframe\">\n",
              "  <thead>\n",
              "    <tr style=\"text-align: right;\">\n",
              "      <th></th>\n",
              "      <th>video_name</th>\n",
              "      <th>label</th>\n",
              "    </tr>\n",
              "  </thead>\n",
              "  <tbody>\n",
              "    <tr>\n",
              "      <th>0</th>\n",
              "      <td>cricketshot021.mp4</td>\n",
              "      <td>0</td>\n",
              "    </tr>\n",
              "    <tr>\n",
              "      <th>1</th>\n",
              "      <td>cricketshot022.mp4</td>\n",
              "      <td>0</td>\n",
              "    </tr>\n",
              "    <tr>\n",
              "      <th>2</th>\n",
              "      <td>cricketshot023.mp4</td>\n",
              "      <td>0</td>\n",
              "    </tr>\n",
              "    <tr>\n",
              "      <th>3</th>\n",
              "      <td>punch021.mp4</td>\n",
              "      <td>1</td>\n",
              "    </tr>\n",
              "    <tr>\n",
              "      <th>4</th>\n",
              "      <td>punch022.mp4</td>\n",
              "      <td>1</td>\n",
              "    </tr>\n",
              "    <tr>\n",
              "      <th>...</th>\n",
              "      <td>...</td>\n",
              "      <td>...</td>\n",
              "    </tr>\n",
              "    <tr>\n",
              "      <th>65</th>\n",
              "      <td>punch005.mp4</td>\n",
              "      <td>1</td>\n",
              "    </tr>\n",
              "    <tr>\n",
              "      <th>66</th>\n",
              "      <td>punch009.mp4</td>\n",
              "      <td>1</td>\n",
              "    </tr>\n",
              "    <tr>\n",
              "      <th>67</th>\n",
              "      <td>punch006.mp4</td>\n",
              "      <td>1</td>\n",
              "    </tr>\n",
              "    <tr>\n",
              "      <th>68</th>\n",
              "      <td>punch008.mp4</td>\n",
              "      <td>1</td>\n",
              "    </tr>\n",
              "    <tr>\n",
              "      <th>69</th>\n",
              "      <td>punch007.mp4</td>\n",
              "      <td>1</td>\n",
              "    </tr>\n",
              "  </tbody>\n",
              "</table>\n",
              "<p>70 rows × 2 columns</p>\n",
              "</div>\n",
              "      <button class=\"colab-df-convert\" onclick=\"convertToInteractive('df-81413aa7-7d1f-4312-8420-4cae63a05ad2')\"\n",
              "              title=\"Convert this dataframe to an interactive table.\"\n",
              "              style=\"display:none;\">\n",
              "        \n",
              "  <svg xmlns=\"http://www.w3.org/2000/svg\" height=\"24px\"viewBox=\"0 0 24 24\"\n",
              "       width=\"24px\">\n",
              "    <path d=\"M0 0h24v24H0V0z\" fill=\"none\"/>\n",
              "    <path d=\"M18.56 5.44l.94 2.06.94-2.06 2.06-.94-2.06-.94-.94-2.06-.94 2.06-2.06.94zm-11 1L8.5 8.5l.94-2.06 2.06-.94-2.06-.94L8.5 2.5l-.94 2.06-2.06.94zm10 10l.94 2.06.94-2.06 2.06-.94-2.06-.94-.94-2.06-.94 2.06-2.06.94z\"/><path d=\"M17.41 7.96l-1.37-1.37c-.4-.4-.92-.59-1.43-.59-.52 0-1.04.2-1.43.59L10.3 9.45l-7.72 7.72c-.78.78-.78 2.05 0 2.83L4 21.41c.39.39.9.59 1.41.59.51 0 1.02-.2 1.41-.59l7.78-7.78 2.81-2.81c.8-.78.8-2.07 0-2.86zM5.41 20L4 18.59l7.72-7.72 1.47 1.35L5.41 20z\"/>\n",
              "  </svg>\n",
              "      </button>\n",
              "      \n",
              "  <style>\n",
              "    .colab-df-container {\n",
              "      display:flex;\n",
              "      flex-wrap:wrap;\n",
              "      gap: 12px;\n",
              "    }\n",
              "\n",
              "    .colab-df-convert {\n",
              "      background-color: #E8F0FE;\n",
              "      border: none;\n",
              "      border-radius: 50%;\n",
              "      cursor: pointer;\n",
              "      display: none;\n",
              "      fill: #1967D2;\n",
              "      height: 32px;\n",
              "      padding: 0 0 0 0;\n",
              "      width: 32px;\n",
              "    }\n",
              "\n",
              "    .colab-df-convert:hover {\n",
              "      background-color: #E2EBFA;\n",
              "      box-shadow: 0px 1px 2px rgba(60, 64, 67, 0.3), 0px 1px 3px 1px rgba(60, 64, 67, 0.15);\n",
              "      fill: #174EA6;\n",
              "    }\n",
              "\n",
              "    [theme=dark] .colab-df-convert {\n",
              "      background-color: #3B4455;\n",
              "      fill: #D2E3FC;\n",
              "    }\n",
              "\n",
              "    [theme=dark] .colab-df-convert:hover {\n",
              "      background-color: #434B5C;\n",
              "      box-shadow: 0px 1px 3px 1px rgba(0, 0, 0, 0.15);\n",
              "      filter: drop-shadow(0px 1px 2px rgba(0, 0, 0, 0.3));\n",
              "      fill: #FFFFFF;\n",
              "    }\n",
              "  </style>\n",
              "\n",
              "      <script>\n",
              "        const buttonEl =\n",
              "          document.querySelector('#df-81413aa7-7d1f-4312-8420-4cae63a05ad2 button.colab-df-convert');\n",
              "        buttonEl.style.display =\n",
              "          google.colab.kernel.accessAllowed ? 'block' : 'none';\n",
              "\n",
              "        async function convertToInteractive(key) {\n",
              "          const element = document.querySelector('#df-81413aa7-7d1f-4312-8420-4cae63a05ad2');\n",
              "          const dataTable =\n",
              "            await google.colab.kernel.invokeFunction('convertToInteractive',\n",
              "                                                     [key], {});\n",
              "          if (!dataTable) return;\n",
              "\n",
              "          const docLinkHtml = 'Like what you see? Visit the ' +\n",
              "            '<a target=\"_blank\" href=https://colab.research.google.com/notebooks/data_table.ipynb>data table notebook</a>'\n",
              "            + ' to learn more about interactive tables.';\n",
              "          element.innerHTML = '';\n",
              "          dataTable['output_type'] = 'display_data';\n",
              "          await google.colab.output.renderOutput(dataTable, element);\n",
              "          const docLink = document.createElement('div');\n",
              "          docLink.innerHTML = docLinkHtml;\n",
              "          element.appendChild(docLink);\n",
              "        }\n",
              "      </script>\n",
              "    </div>\n",
              "  </div>\n",
              "  "
            ]
          },
          "metadata": {},
          "execution_count": 12
        }
      ]
    },
    {
      "cell_type": "code",
      "source": [
        "arr = list(new['label'].value_counts())\n",
        "arr"
      ],
      "metadata": {
        "colab": {
          "base_uri": "https://localhost:8080/"
        },
        "id": "HudUbIa0UVNu",
        "outputId": "70bad7ef-4888-4ab4-f1f4-004099d2fb47"
      },
      "execution_count": null,
      "outputs": [
        {
          "output_type": "execute_result",
          "data": {
            "text/plain": [
              "[24, 23, 23]"
            ]
          },
          "metadata": {},
          "execution_count": 16
        }
      ]
    },
    {
      "cell_type": "code",
      "source": [
        "new['label'].value_counts()"
      ],
      "metadata": {
        "colab": {
          "base_uri": "https://localhost:8080/"
        },
        "id": "KGqqMRDBUZC_",
        "outputId": "789c55ba-2faf-4655-d397-82e32827b667"
      },
      "execution_count": null,
      "outputs": [
        {
          "output_type": "execute_result",
          "data": {
            "text/plain": [
              "1    24\n",
              "2    23\n",
              "0    23\n",
              "Name: label, dtype: int64"
            ]
          },
          "metadata": {},
          "execution_count": 19
        }
      ]
    },
    {
      "cell_type": "code",
      "source": [
        "pd.DataFrame({\"video\" : ['CricketShot', 'Punch', 'TennisSwing'], \"count\" : [23, 24, 23]})"
      ],
      "metadata": {
        "id": "tPga-p3CUmpv"
      },
      "execution_count": null,
      "outputs": []
    },
    {
      "cell_type": "code",
      "source": [
        "# sklearn.utils.shuffle(new) : new에 저장된 행을 섞음\n",
        "new = sklearn.utils.shuffle(new)\n",
        "# new에 저장된 줄이 섞였음\n",
        "new"
      ],
      "metadata": {
        "id": "tZghN_PQvtc0",
        "colab": {
          "base_uri": "https://localhost:8080/",
          "height": 424
        },
        "outputId": "e9820ddf-5840-405e-f637-7e801e96abc3"
      },
      "execution_count": null,
      "outputs": [
        {
          "output_type": "execute_result",
          "data": {
            "text/plain": [
              "            video_name  label\n",
              "41        punch020.mp4      1\n",
              "32  tennisswing007.mp4      2\n",
              "3         punch021.mp4      1\n",
              "5         punch023.mp4      1\n",
              "66        punch009.mp4      1\n",
              "..                 ...    ...\n",
              "56  cricketshot020.mp4      0\n",
              "37  tennisswing002.mp4      2\n",
              "18  cricketshot002.mp4      0\n",
              "28  tennisswing009.mp4      2\n",
              "29  cricketshot008.mp4      0\n",
              "\n",
              "[70 rows x 2 columns]"
            ],
            "text/html": [
              "\n",
              "  <div id=\"df-5f2aff2a-3845-4a01-87cc-f0b0beebebb2\">\n",
              "    <div class=\"colab-df-container\">\n",
              "      <div>\n",
              "<style scoped>\n",
              "    .dataframe tbody tr th:only-of-type {\n",
              "        vertical-align: middle;\n",
              "    }\n",
              "\n",
              "    .dataframe tbody tr th {\n",
              "        vertical-align: top;\n",
              "    }\n",
              "\n",
              "    .dataframe thead th {\n",
              "        text-align: right;\n",
              "    }\n",
              "</style>\n",
              "<table border=\"1\" class=\"dataframe\">\n",
              "  <thead>\n",
              "    <tr style=\"text-align: right;\">\n",
              "      <th></th>\n",
              "      <th>video_name</th>\n",
              "      <th>label</th>\n",
              "    </tr>\n",
              "  </thead>\n",
              "  <tbody>\n",
              "    <tr>\n",
              "      <th>41</th>\n",
              "      <td>punch020.mp4</td>\n",
              "      <td>1</td>\n",
              "    </tr>\n",
              "    <tr>\n",
              "      <th>32</th>\n",
              "      <td>tennisswing007.mp4</td>\n",
              "      <td>2</td>\n",
              "    </tr>\n",
              "    <tr>\n",
              "      <th>3</th>\n",
              "      <td>punch021.mp4</td>\n",
              "      <td>1</td>\n",
              "    </tr>\n",
              "    <tr>\n",
              "      <th>5</th>\n",
              "      <td>punch023.mp4</td>\n",
              "      <td>1</td>\n",
              "    </tr>\n",
              "    <tr>\n",
              "      <th>66</th>\n",
              "      <td>punch009.mp4</td>\n",
              "      <td>1</td>\n",
              "    </tr>\n",
              "    <tr>\n",
              "      <th>...</th>\n",
              "      <td>...</td>\n",
              "      <td>...</td>\n",
              "    </tr>\n",
              "    <tr>\n",
              "      <th>56</th>\n",
              "      <td>cricketshot020.mp4</td>\n",
              "      <td>0</td>\n",
              "    </tr>\n",
              "    <tr>\n",
              "      <th>37</th>\n",
              "      <td>tennisswing002.mp4</td>\n",
              "      <td>2</td>\n",
              "    </tr>\n",
              "    <tr>\n",
              "      <th>18</th>\n",
              "      <td>cricketshot002.mp4</td>\n",
              "      <td>0</td>\n",
              "    </tr>\n",
              "    <tr>\n",
              "      <th>28</th>\n",
              "      <td>tennisswing009.mp4</td>\n",
              "      <td>2</td>\n",
              "    </tr>\n",
              "    <tr>\n",
              "      <th>29</th>\n",
              "      <td>cricketshot008.mp4</td>\n",
              "      <td>0</td>\n",
              "    </tr>\n",
              "  </tbody>\n",
              "</table>\n",
              "<p>70 rows × 2 columns</p>\n",
              "</div>\n",
              "      <button class=\"colab-df-convert\" onclick=\"convertToInteractive('df-5f2aff2a-3845-4a01-87cc-f0b0beebebb2')\"\n",
              "              title=\"Convert this dataframe to an interactive table.\"\n",
              "              style=\"display:none;\">\n",
              "        \n",
              "  <svg xmlns=\"http://www.w3.org/2000/svg\" height=\"24px\"viewBox=\"0 0 24 24\"\n",
              "       width=\"24px\">\n",
              "    <path d=\"M0 0h24v24H0V0z\" fill=\"none\"/>\n",
              "    <path d=\"M18.56 5.44l.94 2.06.94-2.06 2.06-.94-2.06-.94-.94-2.06-.94 2.06-2.06.94zm-11 1L8.5 8.5l.94-2.06 2.06-.94-2.06-.94L8.5 2.5l-.94 2.06-2.06.94zm10 10l.94 2.06.94-2.06 2.06-.94-2.06-.94-.94-2.06-.94 2.06-2.06.94z\"/><path d=\"M17.41 7.96l-1.37-1.37c-.4-.4-.92-.59-1.43-.59-.52 0-1.04.2-1.43.59L10.3 9.45l-7.72 7.72c-.78.78-.78 2.05 0 2.83L4 21.41c.39.39.9.59 1.41.59.51 0 1.02-.2 1.41-.59l7.78-7.78 2.81-2.81c.8-.78.8-2.07 0-2.86zM5.41 20L4 18.59l7.72-7.72 1.47 1.35L5.41 20z\"/>\n",
              "  </svg>\n",
              "      </button>\n",
              "      \n",
              "  <style>\n",
              "    .colab-df-container {\n",
              "      display:flex;\n",
              "      flex-wrap:wrap;\n",
              "      gap: 12px;\n",
              "    }\n",
              "\n",
              "    .colab-df-convert {\n",
              "      background-color: #E8F0FE;\n",
              "      border: none;\n",
              "      border-radius: 50%;\n",
              "      cursor: pointer;\n",
              "      display: none;\n",
              "      fill: #1967D2;\n",
              "      height: 32px;\n",
              "      padding: 0 0 0 0;\n",
              "      width: 32px;\n",
              "    }\n",
              "\n",
              "    .colab-df-convert:hover {\n",
              "      background-color: #E2EBFA;\n",
              "      box-shadow: 0px 1px 2px rgba(60, 64, 67, 0.3), 0px 1px 3px 1px rgba(60, 64, 67, 0.15);\n",
              "      fill: #174EA6;\n",
              "    }\n",
              "\n",
              "    [theme=dark] .colab-df-convert {\n",
              "      background-color: #3B4455;\n",
              "      fill: #D2E3FC;\n",
              "    }\n",
              "\n",
              "    [theme=dark] .colab-df-convert:hover {\n",
              "      background-color: #434B5C;\n",
              "      box-shadow: 0px 1px 3px 1px rgba(0, 0, 0, 0.15);\n",
              "      filter: drop-shadow(0px 1px 2px rgba(0, 0, 0, 0.3));\n",
              "      fill: #FFFFFF;\n",
              "    }\n",
              "  </style>\n",
              "\n",
              "      <script>\n",
              "        const buttonEl =\n",
              "          document.querySelector('#df-5f2aff2a-3845-4a01-87cc-f0b0beebebb2 button.colab-df-convert');\n",
              "        buttonEl.style.display =\n",
              "          google.colab.kernel.accessAllowed ? 'block' : 'none';\n",
              "\n",
              "        async function convertToInteractive(key) {\n",
              "          const element = document.querySelector('#df-5f2aff2a-3845-4a01-87cc-f0b0beebebb2');\n",
              "          const dataTable =\n",
              "            await google.colab.kernel.invokeFunction('convertToInteractive',\n",
              "                                                     [key], {});\n",
              "          if (!dataTable) return;\n",
              "\n",
              "          const docLinkHtml = 'Like what you see? Visit the ' +\n",
              "            '<a target=\"_blank\" href=https://colab.research.google.com/notebooks/data_table.ipynb>data table notebook</a>'\n",
              "            + ' to learn more about interactive tables.';\n",
              "          element.innerHTML = '';\n",
              "          dataTable['output_type'] = 'display_data';\n",
              "          await google.colab.output.renderOutput(dataTable, element);\n",
              "          const docLink = document.createElement('div');\n",
              "          docLink.innerHTML = docLinkHtml;\n",
              "          element.appendChild(docLink);\n",
              "        }\n",
              "      </script>\n",
              "    </div>\n",
              "  </div>\n",
              "  "
            ]
          },
          "metadata": {},
          "execution_count": 13
        }
      ]
    },
    {
      "cell_type": "code",
      "source": [
        "# 모든 비디오 파일의 이미지와 종류를 리턴\n",
        "# prepare_all_videos(video_name , label, root_dir, is_train)\n",
        "# video_name : 비디오 파일명\n",
        "# label: 비디오 파일 종류\n",
        "# root_dir : 비디오 파일 경로, 마지막에 꼭 / 를 붙여줘야 합니다.\n",
        "# is_train : train 데이터 여부 (test 데이터이므로 여기서는 False)\n",
        "new_X_test, new_y_test = prepare_all_videos(new[\"video_name\"],\n",
        "                                            new[\"label\"] ,\n",
        "                                            \"/content/drive/MyDrive/비디오 분류_1조/new_test/\",\n",
        "                                            False)"
      ],
      "metadata": {
        "id": "v2Ow03vIkA4z",
        "colab": {
          "base_uri": "https://localhost:8080/",
          "height": 387
        },
        "outputId": "9ee3a808-9ed5-4135-bb6d-ac824348471a"
      },
      "execution_count": null,
      "outputs": [
        {
          "output_type": "stream",
          "name": "stderr",
          "text": [
            "8it [00:16,  2.12s/it]\n"
          ]
        },
        {
          "output_type": "error",
          "ename": "KeyboardInterrupt",
          "evalue": "ignored",
          "traceback": [
            "\u001b[0;31m---------------------------------------------------------------------------\u001b[0m",
            "\u001b[0;31mKeyboardInterrupt\u001b[0m                         Traceback (most recent call last)",
            "\u001b[0;32m<ipython-input-14-75a3e49fa1a9>\u001b[0m in \u001b[0;36m<module>\u001b[0;34m\u001b[0m\n\u001b[1;32m      8\u001b[0m                                             \u001b[0mnew\u001b[0m\u001b[0;34m[\u001b[0m\u001b[0;34m\"label\"\u001b[0m\u001b[0;34m]\u001b[0m \u001b[0;34m,\u001b[0m\u001b[0;34m\u001b[0m\u001b[0;34m\u001b[0m\u001b[0m\n\u001b[1;32m      9\u001b[0m                                             \u001b[0;34m\"/content/drive/MyDrive/비디오 분류_1조/new_test/\"\u001b[0m\u001b[0;34m,\u001b[0m\u001b[0;34m\u001b[0m\u001b[0;34m\u001b[0m\u001b[0m\n\u001b[0;32m---> 10\u001b[0;31m                                             False)\n\u001b[0m",
            "\u001b[0;32m<ipython-input-6-b6d03f15e00a>\u001b[0m in \u001b[0;36mprepare_all_videos\u001b[0;34m(video_name, label, root_dir, is_train)\u001b[0m\n\u001b[1;32m     20\u001b[0m     \u001b[0;32mfor\u001b[0m \u001b[0mindex\u001b[0m\u001b[0;34m,\u001b[0m \u001b[0mpath\u001b[0m \u001b[0;32min\u001b[0m \u001b[0mtqdm\u001b[0m\u001b[0;34m(\u001b[0m \u001b[0menumerate\u001b[0m\u001b[0;34m(\u001b[0m\u001b[0mvideo_paths\u001b[0m\u001b[0;34m)\u001b[0m \u001b[0;34m)\u001b[0m\u001b[0;34m:\u001b[0m\u001b[0;34m\u001b[0m\u001b[0;34m\u001b[0m\u001b[0m\n\u001b[1;32m     21\u001b[0m         \u001b[0;31m# 비디오 파일을 읽어서 비디오 이미지를 리턴\u001b[0m\u001b[0;34m\u001b[0m\u001b[0;34m\u001b[0m\u001b[0;34m\u001b[0m\u001b[0m\n\u001b[0;32m---> 22\u001b[0;31m         \u001b[0mvideo\u001b[0m \u001b[0;34m=\u001b[0m \u001b[0mload_video\u001b[0m\u001b[0;34m(\u001b[0m\u001b[0mroot_dir\u001b[0m \u001b[0;34m+\u001b[0m \u001b[0mpath\u001b[0m\u001b[0;34m)\u001b[0m\u001b[0;34m\u001b[0m\u001b[0;34m\u001b[0m\u001b[0m\n\u001b[0m\u001b[1;32m     23\u001b[0m         \u001b[0;31m# 학습데이터 일때 이미지 증강 (테스트 데이터는 증강 안함)\u001b[0m\u001b[0;34m\u001b[0m\u001b[0;34m\u001b[0m\u001b[0;34m\u001b[0m\u001b[0m\n\u001b[1;32m     24\u001b[0m         \u001b[0;32mif\u001b[0m \u001b[0mis_train\u001b[0m\u001b[0;34m:\u001b[0m\u001b[0;34m\u001b[0m\u001b[0;34m\u001b[0m\u001b[0m\n",
            "\u001b[0;32m<ipython-input-5-143b2718a209>\u001b[0m in \u001b[0;36mload_video\u001b[0;34m(path, max_frames, resize)\u001b[0m\n\u001b[1;32m     12\u001b[0m             \u001b[0;31m# ret : 비디오 읽기가 성공했으면 True, 더이상 읽을 비디오 프레임이 없으면 False 가 리턴\u001b[0m\u001b[0;34m\u001b[0m\u001b[0;34m\u001b[0m\u001b[0;34m\u001b[0m\u001b[0m\n\u001b[1;32m     13\u001b[0m             \u001b[0;31m# frame : 비디오 프레임 이미지를 리턴\u001b[0m\u001b[0;34m\u001b[0m\u001b[0;34m\u001b[0m\u001b[0;34m\u001b[0m\u001b[0m\n\u001b[0;32m---> 14\u001b[0;31m             \u001b[0mret\u001b[0m\u001b[0;34m,\u001b[0m \u001b[0mframe\u001b[0m \u001b[0;34m=\u001b[0m \u001b[0mcap\u001b[0m\u001b[0;34m.\u001b[0m\u001b[0mread\u001b[0m\u001b[0;34m(\u001b[0m\u001b[0;34m)\u001b[0m\u001b[0;34m\u001b[0m\u001b[0;34m\u001b[0m\u001b[0m\n\u001b[0m\u001b[1;32m     15\u001b[0m             \u001b[0;31m# ret 가 False면 반복 종료\u001b[0m\u001b[0;34m\u001b[0m\u001b[0;34m\u001b[0m\u001b[0;34m\u001b[0m\u001b[0m\n\u001b[1;32m     16\u001b[0m             \u001b[0;32mif\u001b[0m \u001b[0;32mnot\u001b[0m \u001b[0mret\u001b[0m\u001b[0;34m:\u001b[0m\u001b[0;34m\u001b[0m\u001b[0;34m\u001b[0m\u001b[0m\n",
            "\u001b[0;31mKeyboardInterrupt\u001b[0m: "
          ]
        }
      ]
    },
    {
      "cell_type": "markdown",
      "source": [
        "# 여러 모델 한번에 확인"
      ],
      "metadata": {
        "id": "ySdu6d_66Sw9"
      }
    },
    {
      "cell_type": "code",
      "source": [
        "models = ['M', 'X', 'I', 'R', 'i3d']\n",
        "acc_list = []\n",
        "loss_list = []\n",
        "\n",
        "for i in models:\n",
        "    print(\"i=\", i)\n",
        "    if i == \"X\" :\n",
        "        new_X_test_small=np.zeros(shape = (len(new_X_test), 10, 224,224,3), dtype = 'float32')\n",
        "        for index in range(len(new_X_test)):\n",
        "            for j in range(0,20,2):\n",
        "                new_X_test_small[index] = new_X_test[index, j, :, :, :]\n",
        "\n",
        "        print(new_X_test_small.shape)\n",
        "\n",
        "    else:\n",
        "        print('no')\n",
        "\n",
        ""
      ],
      "metadata": {
        "id": "B_aA1ph-q9VS"
      },
      "execution_count": null,
      "outputs": []
    },
    {
      "cell_type": "markdown",
      "source": [
        "## 기본증강 + LSTM"
      ],
      "metadata": {
        "id": "U6uyHJfy9z3r"
      }
    },
    {
      "cell_type": "code",
      "source": [
        "# 모델 이름 저장된 list\n",
        "models = ['M', 'X', 'I', 'R', 'i3d']\n",
        "acc_list = []\n",
        "loss_list = []\n",
        "\n",
        "for i in models:\n",
        "    best_model = keras.models.load_model(\"/content/drive/MyDrive/Colab Notebooks/result/\" + i + \"result01.h5\")\n",
        "    if i == \"X\" or i == \"I\":\n",
        "        new_X_test_small=np.zeros(shape = (len(new_X_test), 10, 224,224,3), dtype = 'float32')\n",
        "        for index in range(len(new_X_test)):\n",
        "            for j in range(0,20,2):\n",
        "                new_X_test_small[index] = new_X_test[index, j, :, :, :]\n",
        "        loss, acc = best_model.evaluate(new_X_test_small, new_y_test, batch_size = 1)\n",
        "    else:\n",
        "        loss, acc = best_model.evaluate(new_X_test, new_y_test, batch_size = 1)\n",
        "    loss_list.append(round(loss, 4))\n",
        "    acc_list.append(round(acc, 4))\n",
        "    print(\"Model :\", i, \"loss :\", loss, \"acc :\", acc)\n",
        "    # best_model = None\n",
        "    # time.sleep(2)\n",
        "model_name = ['MobileNet', 'Xception', 'Inception', 'ResNet', 'i3d']\n",
        "df01 = {'Model' : model_name, 'loss' : loss_list, 'acc' : acc_list}\n",
        "df01"
      ],
      "metadata": {
        "id": "XKSyOwW8qeqx"
      },
      "execution_count": null,
      "outputs": []
    },
    {
      "cell_type": "code",
      "source": [
        "plt.figure(figsize=(10, 5))\n",
        "plt.bar(df01['Model'], df01['acc'])\n",
        "for i in range(0, 5):\n",
        "        plt.text(i, df01['acc'][i]+0.05, df01['acc'][i], ha=\"center\", fontsize=15)\n",
        "plt.ylim(0, 1.1)\n",
        "plt.xticks(fontsize=15)\n",
        "plt.show()"
      ],
      "metadata": {
        "id": "SLGdzDD--uMo"
      },
      "execution_count": null,
      "outputs": []
    },
    {
      "cell_type": "code",
      "source": [
        "plt.figure(figsize=(10, 5))\n",
        "plt.bar(df01['Model'], df01['loss'], color='green')\n",
        "for i in range(0, 5):\n",
        "        plt.text(i, df01['loss'][i]+0.05, df01['loss'][i], ha=\"center\", fontsize=15)\n",
        "plt.ylim(0, 1.1)\n",
        "plt.xticks(fontsize=15)\n",
        "plt.show()"
      ],
      "metadata": {
        "id": "aWiZwv3BFInH"
      },
      "execution_count": null,
      "outputs": []
    },
    {
      "cell_type": "markdown",
      "source": [
        "---"
      ],
      "metadata": {
        "id": "mE2DqeFqCIll"
      }
    },
    {
      "cell_type": "markdown",
      "source": [
        "## 바꾼증강 + LSTM"
      ],
      "metadata": {
        "id": "nVALYZ6vCA_5"
      }
    },
    {
      "cell_type": "code",
      "source": [
        "# 모델 이름 저장된 list\n",
        "models = ['M', 'X', 'I', 'R', 'i3d']\n",
        "acc_list = []\n",
        "loss_list = []\n",
        "\n",
        "for i in models:\n",
        "    best_model = keras.models.load_model(\"/content/drive/MyDrive/Colab Notebooks/result/\" + i + \"result02.h5\")\n",
        "    if i == \"X\" or i == \"I\":\n",
        "        new_X_test_small=np.zeros(shape = (len(new_X_test), 10, 224,224,3), dtype = 'float32')\n",
        "        for index in range(len(new_X_test)):\n",
        "            for j in range(0,20,2):\n",
        "                new_X_test_small[index] = new_X_test[index, j, :, :, :]\n",
        "        loss, acc = best_model.evaluate(new_X_test_small, new_y_test, batch_size = 1)\n",
        "    else:\n",
        "        loss, acc = best_model.evaluate(new_X_test, new_y_test, batch_size = 1)\n",
        "    loss_list.append(round(loss, 4))\n",
        "    acc_list.append(round(acc, 4))\n",
        "    print(\"Model :\", i, \"loss :\", loss, \"acc :\", acc)\n",
        "model_name = ['MobileNet', 'Xception', 'Inception', 'ResNet', 'i3d']\n",
        "df02 = {'Model' : model_name, 'loss' : loss_list, 'acc' : acc_list}\n",
        "df02"
      ],
      "metadata": {
        "id": "EJsqxALhCA_5"
      },
      "execution_count": null,
      "outputs": []
    },
    {
      "cell_type": "code",
      "source": [
        "plt.figure(figsize=(10, 5))\n",
        "plt.bar(df02['Model'], df02['acc'])\n",
        "for i in range(0, 5):\n",
        "        plt.text(i, df02['acc'][i]+0.05, df02['acc'][i], ha=\"center\", fontsize=15)\n",
        "plt.ylim(0, 1.1)\n",
        "plt.xticks(fontsize=15)\n",
        "plt.show()"
      ],
      "metadata": {
        "id": "TaLGGp90CA_6"
      },
      "execution_count": null,
      "outputs": []
    },
    {
      "cell_type": "code",
      "source": [
        "plt.figure(figsize=(10, 5))\n",
        "plt.bar(df02['Model'], df02['loss'], color='green')\n",
        "for i in range(0, 5):\n",
        "        plt.text(i, df02['loss'][i]+0.05, df02['loss'][i], ha=\"center\", fontsize=15)\n",
        "plt.ylim(0, 1.3)\n",
        "plt.xticks(fontsize=15)\n",
        "plt.show()"
      ],
      "metadata": {
        "id": "pIffB1EuFTw9"
      },
      "execution_count": null,
      "outputs": []
    },
    {
      "cell_type": "markdown",
      "source": [
        "---"
      ],
      "metadata": {
        "id": "aJGjvQHyCHW1"
      }
    },
    {
      "cell_type": "markdown",
      "source": [
        "## 기본증강 + GRU"
      ],
      "metadata": {
        "id": "bGYIeK8cCKKo"
      }
    },
    {
      "cell_type": "code",
      "source": [
        "# 모델 이름 저장된 list\n",
        "models = ['M', 'X', 'I', 'R']\n",
        "acc_list = []\n",
        "loss_list = []\n",
        "\n",
        "for i in models:\n",
        "    best_model = keras.models.load_model(\"/content/drive/MyDrive/Colab Notebooks/result/\" + i + \"result03.h5\")\n",
        "    if i == \"X\" or i == \"I\":\n",
        "        new_X_test_small=np.zeros(shape = (len(new_X_test), 10, 224,224,3), dtype = 'float32')\n",
        "        for index in range(len(new_X_test)):\n",
        "            for j in range(0,20,2):\n",
        "                new_X_test_small[index] = new_X_test[index, j, :, :, :]\n",
        "        loss, acc = best_model.evaluate(new_X_test_small, new_y_test, batch_size = 1)\n",
        "    else:\n",
        "        loss, acc = best_model.evaluate(new_X_test, new_y_test, batch_size = 1)\n",
        "    loss_list.append(round(loss, 4))\n",
        "    acc_list.append(round(acc, 4))\n",
        "    print(\"Model :\", i, \"loss :\", loss, \"acc :\", acc)\n",
        "model_name = ['MobileNet', 'Xception', 'Inception', 'ResNet']\n",
        "df03 = {'Model' : model_name, 'loss' : loss_list, 'acc' : acc_list}\n",
        "df03"
      ],
      "metadata": {
        "id": "ESx5Cg16CKKo"
      },
      "execution_count": null,
      "outputs": []
    },
    {
      "cell_type": "code",
      "source": [
        "plt.figure(figsize=(7, 5))\n",
        "plt.bar(df03['Model'], df03['acc'])\n",
        "for i in range(0, 4):\n",
        "        plt.text(i, df03['acc'][i]+0.05, df03['acc'][i], ha=\"center\", fontsize=15)\n",
        "plt.ylim(0, 1.1)\n",
        "plt.xticks(fontsize=15)\n",
        "plt.show()"
      ],
      "metadata": {
        "id": "gnrA9W3mCKKp"
      },
      "execution_count": null,
      "outputs": []
    },
    {
      "cell_type": "code",
      "source": [
        "plt.figure(figsize=(7, 5))\n",
        "plt.bar(df03['Model'], df03['loss'], color='green')\n",
        "for i in range(0, 4):\n",
        "        plt.text(i, df03['loss'][i]+0.05, df03['loss'][i], ha=\"center\", fontsize=15)\n",
        "plt.ylim(0, 1.0)\n",
        "plt.xticks(fontsize=15)\n",
        "plt.show()"
      ],
      "metadata": {
        "id": "RVJT2LzlFnsx"
      },
      "execution_count": null,
      "outputs": []
    },
    {
      "cell_type": "markdown",
      "source": [
        "---"
      ],
      "metadata": {
        "id": "7shJmEP8CKKp"
      }
    },
    {
      "cell_type": "markdown",
      "source": [
        "## 바꾼증강 + GRU"
      ],
      "metadata": {
        "id": "rnDGGyqOCTh5"
      }
    },
    {
      "cell_type": "code",
      "source": [
        "# 모델 이름 저장된 list\n",
        "models = ['M', 'X', 'I', 'R']\n",
        "acc_list = []\n",
        "loss_list = []\n",
        "\n",
        "for i in models:\n",
        "    best_model = keras.models.load_model(\"/content/drive/MyDrive/Colab Notebooks/result/\" + i + \"result04.h5\")\n",
        "    if i == \"X\" or i == \"I\":\n",
        "        new_X_test_small=np.zeros(shape = (len(new_X_test), 10, 224,224,3), dtype = 'float32')\n",
        "        for index in range(len(new_X_test)):\n",
        "            for j in range(0,20,2):\n",
        "                new_X_test_small[index] = new_X_test[index, j, :, :, :]\n",
        "        loss, acc = best_model.evaluate(new_X_test_small, new_y_test, batch_size = 1)\n",
        "    else:\n",
        "        loss, acc = best_model.evaluate(new_X_test, new_y_test, batch_size = 1)\n",
        "    loss_list.append(round(loss, 4))\n",
        "    acc_list.append(round(acc, 4))\n",
        "    print(\"Model :\", i, \"loss :\", loss, \"acc :\", acc)\n",
        "model_name = ['MobileNet', 'Xception', 'Inception', 'ResNet']\n",
        "df04 = {'Model' : model_name, 'loss' : loss_list, 'acc' : acc_list}\n",
        "df04"
      ],
      "metadata": {
        "id": "CG-eu-9yCTh5"
      },
      "execution_count": null,
      "outputs": []
    },
    {
      "cell_type": "code",
      "source": [
        "plt.figure(figsize=(7, 5))\n",
        "plt.bar(df04['Model'], df04['acc'])\n",
        "for i in range(0, 4):\n",
        "        plt.text(i, df04['acc'][i]+0.05, df04['acc'][i], ha=\"center\", fontsize=15)\n",
        "plt.ylim(0, 1.1)\n",
        "plt.xticks(fontsize=15)\n",
        "plt.show()"
      ],
      "metadata": {
        "id": "Z1F-waFSCTh6"
      },
      "execution_count": null,
      "outputs": []
    },
    {
      "cell_type": "code",
      "source": [
        "plt.figure(figsize=(7, 5))\n",
        "plt.bar(df04['Model'], df04['loss'], color='green')\n",
        "for i in range(0, 4):\n",
        "        plt.text(i, df04['loss'][i]+0.05, df04['loss'][i], ha=\"center\", fontsize=15)\n",
        "plt.ylim(0, 1.3)\n",
        "plt.xticks(fontsize=15)\n",
        "plt.show()"
      ],
      "metadata": {
        "id": "L61eWBxDFxas"
      },
      "execution_count": null,
      "outputs": []
    },
    {
      "cell_type": "markdown",
      "source": [
        "---"
      ],
      "metadata": {
        "id": "7uolWPIJCTh6"
      }
    },
    {
      "cell_type": "code",
      "source": [],
      "metadata": {
        "id": "C4f5br8fIS6F"
      },
      "execution_count": null,
      "outputs": []
    }
  ]
}